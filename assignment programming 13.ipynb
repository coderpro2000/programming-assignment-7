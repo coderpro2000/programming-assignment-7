{
 "cells": [
  {
   "cell_type": "code",
   "execution_count": 2,
   "metadata": {},
   "outputs": [
    {
     "name": "stdout",
     "output_type": "stream",
     "text": [
      "enter the value of d 100,150,180\n",
      "[18, 22, 24]\n"
     ]
    }
   ],
   "source": [
    "\n",
    "import math\n",
    "\n",
    "numbers = input(\"enter the value of d \")\n",
    "numbers = numbers.split(',')\n",
    "c=50\n",
    "h=30\n",
    "result_list = []\n",
    "for D in numbers:\n",
    "    Q = round(math.sqrt(2 * c * int(D) / h))\n",
    "    result_list.append(Q)\n",
    "\n",
    "print(result_list)"
   ]
  },
  {
   "cell_type": "code",
   "execution_count": 3,
   "metadata": {},
   "outputs": [
    {
     "name": "stdout",
     "output_type": "stream",
     "text": [
      "Input number of rows: 3\n",
      "Input number of columns: 5\n",
      "[[0, 0, 0, 0, 0], [0, 1, 2, 3, 4], [0, 2, 4, 6, 8]]\n"
     ]
    }
   ],
   "source": [
    "row_num = int(input(\"Input number of rows: \"))\n",
    "col_num = int(input(\"Input number of columns: \"))\n",
    "multi_list = [[0 for col in range(col_num)] for row in range(row_num)]\n",
    "\n",
    "for row in range(row_num):\n",
    "    for col in range(col_num):\n",
    "        multi_list[row][col]= row*col\n",
    "\n",
    "print(multi_list)\n"
   ]
  },
  {
   "cell_type": "code",
   "execution_count": 4,
   "metadata": {},
   "outputs": [
    {
     "name": "stdout",
     "output_type": "stream",
     "text": [
      "Input words: without,hello,bag,world Then, the output should be: bag,hello,without,world\n",
      " the output should be: bag, bag, hello, hello, without, without, world, world Then\n"
     ]
    }
   ],
   "source": [
    "phrase = input(\"Input words: \")\n",
    "\n",
    "phrase_list = phrase.split(\",\")\n",
    "phrase_list.sort()\n",
    "print((', ').join(phrase_list))"
   ]
  },
  {
   "cell_type": "code",
   "execution_count": 5,
   "metadata": {},
   "outputs": [
    {
     "name": "stdout",
     "output_type": "stream",
     "text": [
      "Type in: hello world and practice makes perfect and hello world again\n",
      "again and hello makes perfect practice world\n"
     ]
    }
   ],
   "source": [
    "phrase = input(\"Type in: \")\n",
    "phrase_splited = phrase.split(' ')\n",
    "\n",
    "word_list = []\n",
    "for i in phrase_splited:\n",
    "    if i not in word_list:\n",
    "        word_list.append(i)\n",
    "    else:\n",
    "        continue\n",
    "word_list.sort()\n",
    "print((' ').join(word_list))"
   ]
  },
  {
   "cell_type": "code",
   "execution_count": 6,
   "metadata": {},
   "outputs": [
    {
     "name": "stdout",
     "output_type": "stream",
     "text": [
      "Type in: hello world! 123\n",
      "Letters: 10\n",
      "Digits: 3\n"
     ]
    }
   ],
   "source": [
    "phrase = input(\"Type in: \")\n",
    "phrase = list(phrase)\n",
    "\n",
    "l, d = 0, 0\n",
    "for i in phrase:\n",
    "    if i.isalpha():\n",
    "        l = l + 1\n",
    "    if i.isdigit():\n",
    "        d = d + 1\n",
    "    else:\n",
    "        pass\n",
    "\n",
    "print(\"Letters:\", l)\n",
    "print(\"Digits:\", d)"
   ]
  },
  {
   "cell_type": "code",
   "execution_count": 7,
   "metadata": {},
   "outputs": [
    {
     "name": "stdout",
     "output_type": "stream",
     "text": [
      "Type in: ABd1234@1,a F1#,2w3E*,2We3345\n",
      "ABd1234@1\n"
     ]
    }
   ],
   "source": [
    "import re\n",
    "\n",
    "passwords = input(\"Type in: \")\n",
    "passwords = passwords.split(\",\")\n",
    "\n",
    "accepted_pass = []\n",
    "for i in passwords:\n",
    "    \n",
    "    if len(i) < 6 or len(i) > 12:\n",
    "        continue\n",
    "\n",
    "    elif not re.search(\"([a-z])+\", i):\n",
    "        continue\n",
    "\n",
    "    elif not re.search(\"([A-Z])+\", i):\n",
    "        continue\n",
    "\n",
    "    elif not re.search(\"([0-9])+\", i):\n",
    "        continue\n",
    "\n",
    "    elif not re.search(\"([!@$%^&])+\", i):\n",
    "        continue\n",
    "\n",
    "    else:\n",
    "        accepted_pass.append(i)\n",
    "\n",
    "print((\" \").join(accepted_pass))"
   ]
  },
  {
   "cell_type": "code",
   "execution_count": null,
   "metadata": {},
   "outputs": [],
   "source": []
  },
  {
   "cell_type": "code",
   "execution_count": null,
   "metadata": {},
   "outputs": [],
   "source": []
  },
  {
   "cell_type": "code",
   "execution_count": null,
   "metadata": {},
   "outputs": [],
   "source": []
  },
  {
   "cell_type": "code",
   "execution_count": null,
   "metadata": {},
   "outputs": [],
   "source": []
  }
 ],
 "metadata": {
  "kernelspec": {
   "display_name": "Python 3",
   "language": "python",
   "name": "python3"
  },
  "language_info": {
   "codemirror_mode": {
    "name": "ipython",
    "version": 3
   },
   "file_extension": ".py",
   "mimetype": "text/x-python",
   "name": "python",
   "nbconvert_exporter": "python",
   "pygments_lexer": "ipython3",
   "version": "3.7.6"
  }
 },
 "nbformat": 4,
 "nbformat_minor": 4
}
