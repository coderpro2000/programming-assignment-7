{
 "cells": [
  {
   "cell_type": "code",
   "execution_count": 1,
   "metadata": {},
   "outputs": [
    {
     "name": "stdout",
     "output_type": "stream",
     "text": [
      "6\n",
      "[0]\n",
      "0 True\n",
      "1 False\n",
      "2 False\n",
      "3 False\n",
      "4 False\n",
      "5 False\n"
     ]
    }
   ],
   "source": [
    "n = int(input())\n",
    "divBy7 = [i for i in range(0, n) if (i % 7 == 0)]\n",
    "print(divBy7)\n",
    "\n",
    "def divChecker(n):\n",
    "    for i in range(n):\n",
    "        if i % 7 == 0:\n",
    "            value = True\n",
    "        else:\n",
    "            value = False\n",
    "        print(i, value)\n",
    "\n",
    "divChecker(n)"
   ]
  },
  {
   "cell_type": "code",
   "execution_count": 2,
   "metadata": {},
   "outputs": [
    {
     "name": "stdout",
     "output_type": "stream",
     "text": [
      "Type in: my name is somay\n",
      "[('is', 1), ('my', 1), ('name', 1), ('somay', 1)]\n",
      "is 1\n",
      "my 1\n",
      "name 1\n",
      "somay 1\n"
     ]
    }
   ],
   "source": [
    "import operator\n",
    "\n",
    "text_line = input(\"Type in: \")\n",
    "\n",
    "freq_dict = {}\n",
    "\n",
    "for i in text_line.split(' '):\n",
    "    if i.isalpha():\n",
    "        if i not in freq_dict:\n",
    "            freq_dict[i] = 1\n",
    "        elif i in freq_dict:\n",
    "            freq_dict[i] = freq_dict[i] + 1\n",
    "    else:\n",
    "        pass\n",
    "\n",
    "sorted_freq_dict = sorted(freq_dict.items(), key = operator.itemgetter(0))\n",
    "print(sorted_freq_dict)\n",
    "\n",
    "for i in sorted_freq_dict:\n",
    "    print(i[0], i[1])"
   ]
  },
  {
   "cell_type": "code",
   "execution_count": 4,
   "metadata": {},
   "outputs": [
    {
     "name": "stdout",
     "output_type": "stream",
     "text": [
      "Male\n",
      "Female\n"
     ]
    }
   ],
   "source": [
    "class Person(object):\n",
    "    def getGender( self ):\n",
    "        return \"Unknown\"\n",
    "\n",
    "class Male( Person ):\n",
    "    def getGender( self ):\n",
    "        return \"Male\"\n",
    "\n",
    "class Female( Person ):\n",
    "    def getGender( self ):\n",
    "        return \"Female\"\n",
    "\n",
    "aMale = Male()\n",
    "aFemale= Female()\n",
    "print(aMale.getGender())\n",
    "print(aFemale.getGender())"
   ]
  },
  {
   "cell_type": "code",
   "execution_count": 5,
   "metadata": {},
   "outputs": [
    {
     "name": "stdout",
     "output_type": "stream",
     "text": [
      "['I love Hockey', 'I love Football', 'I play Hockey', 'I play Football', 'You love Hockey', 'You love Football', 'You play Hockey', 'You play Football']\n"
     ]
    }
   ],
   "source": [
    "def generate_sentences(subjects,verbs,objects):\n",
    "\t#start writing your code here\n",
    "\tlist=[]\n",
    "\tfor i in subjects:\n",
    "\t    for j in verbs:\n",
    "\t        for k in objects:\n",
    "\t            list.append(i+\" \"+j+\" \"+k)\n",
    "\treturn list \n",
    "\t           \n",
    "subjects=[\"I\",\"You\"]\n",
    "verbs=[\"love\", \"play\"]\n",
    "objects=[\"Hockey\",\"Football\"]\n",
    "print(generate_sentences(subjects,verbs,objects))"
   ]
  },
  {
   "cell_type": "code",
   "execution_count": 9,
   "metadata": {},
   "outputs": [
    {
     "name": "stdout",
     "output_type": "stream",
     "text": [
      "b'x\\x9c\\xcbH\\xcd\\xc9\\xc9W(\\xcf/\\xcaIQ\\xcc \\x82\\r\\x00\\xbd[\\x11\\xf5'\n",
      "b'hello world!hello world!hello world!hello world!'\n"
     ]
    }
   ],
   "source": [
    "import zlib\n",
    "\n",
    "s = 'hello world!hello world!hello world!hello world!'\n",
    "# In Python 3 zlib.compress() accepts only DataType <bytes>\n",
    "y = bytes(s, 'utf-8')\n",
    "x = zlib.compress(y)\n",
    "print(x)\n",
    "print(zlib.decompress(x))"
   ]
  },
  {
   "cell_type": "code",
   "execution_count": 7,
   "metadata": {},
   "outputs": [
    {
     "name": "stdout",
     "output_type": "stream",
     "text": [
      "First occurrence of 4 is present at 2\n"
     ]
    }
   ],
   "source": [
    "# Python code to demonstrate working\n",
    "# of binary search in library\n",
    "from bisect import bisect_left\n",
    "\n",
    "def BinarySearch(a, x):\n",
    "\ti = bisect_left(a, x)\n",
    "\tif i != len(a) and a[i] == x:\n",
    "\t\treturn i\n",
    "\telse:\n",
    "\t\treturn -1\n",
    "\n",
    "a = [1, 2, 4, 4, 8]\n",
    "x = int(4)\n",
    "res = BinarySearch(a, x)\n",
    "if res == -1:\n",
    "\tprint(x, \"is absent\")\n",
    "else:\n",
    "\tprint(\"First occurrence of\", x, \"is present at\", res)\n"
   ]
  },
  {
   "cell_type": "code",
   "execution_count": null,
   "metadata": {},
   "outputs": [],
   "source": []
  },
  {
   "cell_type": "code",
   "execution_count": null,
   "metadata": {},
   "outputs": [],
   "source": []
  },
  {
   "cell_type": "code",
   "execution_count": null,
   "metadata": {},
   "outputs": [],
   "source": []
  },
  {
   "cell_type": "code",
   "execution_count": null,
   "metadata": {},
   "outputs": [],
   "source": []
  }
 ],
 "metadata": {
  "kernelspec": {
   "display_name": "Python 3",
   "language": "python",
   "name": "python3"
  },
  "language_info": {
   "codemirror_mode": {
    "name": "ipython",
    "version": 3
   },
   "file_extension": ".py",
   "mimetype": "text/x-python",
   "name": "python",
   "nbconvert_exporter": "python",
   "pygments_lexer": "ipython3",
   "version": "3.7.6"
  }
 },
 "nbformat": 4,
 "nbformat_minor": 4
}
