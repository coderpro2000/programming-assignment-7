{
 "cells": [
  {
   "cell_type": "code",
   "execution_count": 1,
   "metadata": {},
   "outputs": [
    {
     "name": "stdout",
     "output_type": "stream",
     "text": [
      "['name', 'somay']\n"
     ]
    }
   ],
   "source": [
    "def string_k(k, str):\n",
    "      \n",
    "    # create the empty string\n",
    "    string = []\n",
    "      \n",
    "    # split the string where space is comes\n",
    "    text = str.split(\" \")\n",
    "      \n",
    "    # iterate the loop till every substring\n",
    "    for x in text:\n",
    "          \n",
    "        # if length of current sub string\n",
    "        # is greater than k then\n",
    "        if len(x) > k:\n",
    "              \n",
    "            # append this sub string in\n",
    "            # string list\n",
    "            string.append(x)\n",
    "              \n",
    "     # return string list\n",
    "    return string\n",
    "  \n",
    "  \n",
    "# Driver Program     \n",
    "k = 3\n",
    "str =\"my name is somay\"\n",
    "print(string_k(k, str)) "
   ]
  },
  {
   "cell_type": "code",
   "execution_count": 2,
   "metadata": {},
   "outputs": [
    {
     "name": "stdout",
     "output_type": "stream",
     "text": [
      "my nae is somay\n"
     ]
    }
   ],
   "source": [
    "def remove(string, i): \n",
    "  \n",
    "    # Characters before the i-th indexed\n",
    "    # is stored in a variable a\n",
    "    a = string[ : i] \n",
    "      \n",
    "    # Characters after the nth indexed\n",
    "    # is stored in a variable b\n",
    "    b = string[i + 1: ]\n",
    "      \n",
    "    # Returning string after removing\n",
    "    # nth indexed character.\n",
    "    return a + b\n",
    "      \n",
    "# Driver Code\n",
    "if __name__ == '__main__':\n",
    "      \n",
    "    string = \"my name is somay\"\n",
    "      \n",
    "    # Remove nth index element\n",
    "    i = 5\n",
    "    \n",
    "    # Print the new string\n",
    "    print(remove(string, i))"
   ]
  },
  {
   "cell_type": "code",
   "execution_count": 3,
   "metadata": {},
   "outputs": [
    {
     "name": "stdout",
     "output_type": "stream",
     "text": [
      "['my', 'name', 'is', 'somay']\n",
      "my-name-is-somay\n"
     ]
    }
   ],
   "source": [
    "def split_string(string):\n",
    "  \n",
    "    # Split the string based on space delimiter\n",
    "    list_string = string.split(' ')\n",
    "      \n",
    "    return list_string\n",
    "  \n",
    "def join_string(list_string):\n",
    "  \n",
    "    # Join the string based on '-' delimiter\n",
    "    string = '-'.join(list_string)\n",
    "      \n",
    "    return string\n",
    "  \n",
    "# Driver Function\n",
    "if __name__ == '__main__':\n",
    "    string = 'my name is somay'\n",
    "      \n",
    "    # Splitting a string\n",
    "    list_string = split_string(string)\n",
    "    print(list_string)\n",
    "  \n",
    "     # Join list of strings into one\n",
    "    new_string = join_string(list_string)\n",
    "    print(new_string)"
   ]
  },
  {
   "cell_type": "code",
   "execution_count": 4,
   "metadata": {},
   "outputs": [
    {
     "name": "stdout",
     "output_type": "stream",
     "text": [
      "Yes\n"
     ]
    }
   ],
   "source": [
    "def check(string) :\n",
    "  \n",
    "    # set function convert string\n",
    "    # into set of characters .\n",
    "    p = set(string)\n",
    "  \n",
    "    # declare set of '0', '1' .\n",
    "    s = {'0', '1'}\n",
    "  \n",
    "    # check set p is same as set s\n",
    "    # or set p contains only '0'\n",
    "    # or set p contains only '1'\n",
    "    # or not, if any one condition\n",
    "    # is true then string is accepted\n",
    "    # otherwise not .\n",
    "    if s == p or p == {'0'} or p == {'1'}:\n",
    "        print(\"Yes\")\n",
    "    else :\n",
    "        print(\"No\")\n",
    "  \n",
    "  \n",
    "          \n",
    "# driver code\n",
    "if __name__ == \"__main__\" :\n",
    "  \n",
    "    string = \"1010100001111\"\n",
    "  \n",
    "    # function calling\n",
    "    check(string)"
   ]
  },
  {
   "cell_type": "code",
   "execution_count": 5,
   "metadata": {},
   "outputs": [
    {
     "name": "stdout",
     "output_type": "stream",
     "text": [
      "['my', 'name', 'is', 'somay', 'Learning', 'from', 'ineuron']\n"
     ]
    }
   ],
   "source": [
    "def UncommonWords(A, B):\n",
    "  \n",
    "    # count will contain all the word counts\n",
    "    count = {}\n",
    "      \n",
    "    # insert words of string A to hash\n",
    "    for word in A.split():\n",
    "        count[word] = count.get(word, 0) + 1\n",
    "      \n",
    "    # insert words of string B to hash\n",
    "    for word in B.split():\n",
    "        count[word] = count.get(word, 0) + 1\n",
    "  \n",
    "    # return required list of words\n",
    "    return [word for word in count if count[word] == 1]\n",
    "  \n",
    "# Driver Code\n",
    "A = \"my name is somay\"\n",
    "B = \"Learning from ineuron\"\n",
    "  \n",
    "# Print required answer\n",
    "print(UncommonWords(A, B))"
   ]
  },
  {
   "cell_type": "code",
   "execution_count": 7,
   "metadata": {},
   "outputs": [
    {
     "name": "stdout",
     "output_type": "stream",
     "text": [
      "m y a s \n"
     ]
    }
   ],
   "source": [
    "string = \"mynameissomay\"\n",
    "## initializing a dictionary\n",
    "duplicates = {}\n",
    "for char in string:\n",
    "   ## checking whether the char is already present in dictionary or not\n",
    "   if char in duplicates:\n",
    "      ## increasing count if present\n",
    "      duplicates[char] += 1\n",
    "   else:\n",
    "      ## initializing count to 1 if not present\n",
    "      duplicates[char] = 1\n",
    "for key, value in duplicates.items():\n",
    "   if value > 1:\n",
    "      print(key, end = \" \")\n",
    "print()"
   ]
  },
  {
   "cell_type": "code",
   "execution_count": 8,
   "metadata": {},
   "outputs": [
    {
     "name": "stdout",
     "output_type": "stream",
     "text": [
      "String is not accepted.\n"
     ]
    }
   ],
   "source": [
    "import re\n",
    "  \n",
    "# Function checks if the string\n",
    "# contains any special character\n",
    "def run(string):\n",
    "  \n",
    "    # Make own character set and pass \n",
    "    # this as argument in compile method\n",
    "    regex = re.compile('[@_!#$%^&*()<>?/\\|}{~:]')\n",
    "      \n",
    "    # Pass the string in search \n",
    "    # method of regex object.    \n",
    "    if(regex.search(string) == None):\n",
    "        print(\"String is accepted\")\n",
    "          \n",
    "    else:\n",
    "        print(\"String is not accepted.\")\n",
    "      \n",
    "  \n",
    "# Driver Code\n",
    "if __name__ == '__main__' :\n",
    "      \n",
    "    # Enter the string\n",
    "    string = \"my @name is %somay\"\n",
    "      \n",
    "    # calling run function \n",
    "    run(string)"
   ]
  },
  {
   "cell_type": "code",
   "execution_count": null,
   "metadata": {},
   "outputs": [],
   "source": []
  },
  {
   "cell_type": "code",
   "execution_count": null,
   "metadata": {},
   "outputs": [],
   "source": []
  },
  {
   "cell_type": "code",
   "execution_count": null,
   "metadata": {},
   "outputs": [],
   "source": []
  },
  {
   "cell_type": "code",
   "execution_count": null,
   "metadata": {},
   "outputs": [],
   "source": []
  },
  {
   "cell_type": "code",
   "execution_count": null,
   "metadata": {},
   "outputs": [],
   "source": []
  }
 ],
 "metadata": {
  "kernelspec": {
   "display_name": "Python 3",
   "language": "python",
   "name": "python3"
  },
  "language_info": {
   "codemirror_mode": {
    "name": "ipython",
    "version": 3
   },
   "file_extension": ".py",
   "mimetype": "text/x-python",
   "name": "python",
   "nbconvert_exporter": "python",
   "pygments_lexer": "ipython3",
   "version": "3.7.6"
  }
 },
 "nbformat": 4,
 "nbformat_minor": 4
}
